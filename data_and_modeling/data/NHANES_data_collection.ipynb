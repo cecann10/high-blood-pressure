{
 "cells": [
  {
   "cell_type": "markdown",
   "metadata": {},
   "source": [
    "## COLLECTION OF NATIONAL HEALTH & NUTRITION EXAMINATION SURVEY DATA FOR PROJECT"
   ]
  },
  {
   "cell_type": "markdown",
   "metadata": {},
   "source": [
    "This worksheet is used for collecting, combining, and filtering of data from the National Health & Nutrition Examination Survey.\n",
    "</br>\n",
    "Data is posted in XPT format in two-year increments for various topics related to the survey.  **Data was collected for 2007-2016.** This data range was chosen because it was only during these years that key questions (e.g. alcohol consumption amount) were asked that wanted to be explored as features in the modeling."
   ]
  },
  {
   "cell_type": "markdown",
   "metadata": {},
   "source": [
    "*Note on the data: NHANES sample weights are used by analysts to produce estimates of the health-related statistics that would have been obtained if the entire sampling frame (i.e., the noninstitutionalized civilian U.S. population) had been surveyed.*"
   ]
  },
  {
   "cell_type": "code",
   "execution_count": 1,
   "metadata": {},
   "outputs": [],
   "source": [
    "import pandas as pd\n",
    "from functools import reduce\n",
    "import pickle\n",
    "\n",
    "import matplotlib.pyplot as plt\n",
    "plt.style.use('ggplot')\n",
    "\n",
    "%matplotlib inline"
   ]
  },
  {
   "cell_type": "markdown",
   "metadata": {},
   "source": [
    "#### KEY:\n",
    "Key for letters that correspond to 2-year ranges.  Letters selected for their correspondence to labeling of the years by NHANES. >"
   ]
  },
  {
   "cell_type": "markdown",
   "metadata": {},
   "source": [
    "E = 2007 - 2008</br>\n",
    "F = 2009 - 2010</br>\n",
    "G = 2011 - 2012</br>\n",
    "H = 2013 - 2014</br>\n",
    "I = 2015 - 2016</br>\n",
    "J = 2017 - 2018</br>"
   ]
  },
  {
   "cell_type": "markdown",
   "metadata": {},
   "source": [
    "### STEP 1: PULLING THE DATA"
   ]
  },
  {
   "cell_type": "markdown",
   "metadata": {},
   "source": [
    "- "
   ]
  },
  {
   "cell_type": "markdown",
   "metadata": {},
   "source": [
    "#### E: 2007-2008 file pull and merge:"
   ]
  },
  {
   "cell_type": "code",
   "execution_count": 2,
   "metadata": {},
   "outputs": [],
   "source": [
    "# Pull in XPT files to create dataframes\n",
    "\n",
    "E_blood_press = pd.read_sas('NHANES_files/blood_pressure/E_BloodPressure_BPX_E.XPT') #blood pressure (target)\n",
    "\n",
    "E_body_meas = pd.read_sas('NHANES_files/body_measures/E_BodyMeasures_BMX_E.XPT') #body measures\n",
    "\n",
    "E_diet = pd.read_sas('NHANES_files/dietary_selections/E_diet_DBQ_E.XPT') #dietary selections\n",
    "                    \n",
    "E_smoking = pd.read_sas('NHANES_files/smoking_status/E_smoking_SMQ_E.XPT') #smoking status\n",
    "\n",
    "E_physical_act = pd.read_sas('NHANES_files/physical_activity/E_physical_act_PAQ_E.XPT') #physical activity\n",
    "\n",
    "E_age_gender_race = pd.read_sas('NHANES_files/age_gender_race/E_demographic_DEMO_E.XPT') #age, gender, & race\n",
    "\n",
    "E_alcohol = pd.read_sas('NHANES_files/alcohol_consumption/E_alcohol_ALQ_E.XPT') #alcohol consumption\n",
    "\n",
    "E_medical_cond = pd.read_sas('NHANES_files/medical_conditions/E_med_con_MCQ_E.XPT') #medical conditions\n",
    "\n",
    "E_work_info = pd.read_sas('NHANES_files/work_info/E_work_OCQ_E.XPT') #work info"
   ]
  },
  {
   "cell_type": "code",
   "execution_count": 3,
   "metadata": {},
   "outputs": [],
   "source": [
    "# merge lists together on each respondents 'sequence number'\n",
    "\n",
    "E_merged_total = reduce(lambda x,y: pd.merge(x,y, on='SEQN', how='outer'),\n",
    "                        [E_blood_press, E_body_meas,\n",
    "                         E_diet, E_smoking, E_physical_act,\n",
    "                         E_age_gender_race, E_alcohol,\n",
    "                         E_medical_cond, E_work_info,])"
   ]
  },
  {
   "cell_type": "code",
   "execution_count": 4,
   "metadata": {},
   "outputs": [],
   "source": [
    "#narrow df to only the features & target we want to explor for model\n",
    "\n",
    "E_filtered = E_merged_total[[\"SEQN\",\"BPXSY1\",\"BPXSY2\",\"BPXSY3\",\n",
    "                             \"BPXDI1\",\"BPXDI2\",\"BPXDI3\",\n",
    "                             \"BMXBMI\",\"BMXWAIST\",\"BMXHT\",\n",
    "                             \"BMXWT\", \"DBD895\",\"DBD905\",\n",
    "                             \"DBD910\",\"SMQ020\",\"SMQ040\",\n",
    "                             \"PAQ605\",\"PAQ620\",\"PAQ635\",\n",
    "                             \"PAQ650\",\"PAD680\",\"RIAGENDR\",\n",
    "                             \"RIDAGEYR\",\"RIDRETH1\",\n",
    "                             \"ALQ101\",\"ALQ130\",\"OCD150\",\n",
    "                             \"OCQ180\",\n",
    "                            ]]"
   ]
  },
  {
   "cell_type": "markdown",
   "metadata": {},
   "source": [
    "-"
   ]
  },
  {
   "cell_type": "markdown",
   "metadata": {},
   "source": [
    "#### F: 2009-2010 file pull and merge:"
   ]
  },
  {
   "cell_type": "code",
   "execution_count": 5,
   "metadata": {},
   "outputs": [],
   "source": [
    "# Pull in XPT files to create dataframes\n",
    "\n",
    "F_blood_press = pd.read_sas('NHANES_files/blood_pressure/F_BloodPressure_BPX_F.XPT') #blood pressure (target)\n",
    "\n",
    "F_body_meas = pd.read_sas('NHANES_files/body_measures/F_BodyMeasures_BMX_F.XPT') #body measures\n",
    "\n",
    "F_diet = pd.read_sas('NHANES_files/dietary_selections/F_diet_DBQ_F.XPT') #dietary selections\n",
    "                    \n",
    "F_smoking = pd.read_sas('NHANES_files/smoking_status/F_smoking_SMQ_F.XPT') #smoking status\n",
    "\n",
    "F_physical_act = pd.read_sas('NHANES_files/physical_activity/F_physical_act_PAQ_F.XPT') #physical activity\n",
    "\n",
    "F_age_gender_race = pd.read_sas('NHANES_files/age_gender_race/F_demographic_DEMO_F.XPT') #age, gender, & race\n",
    "\n",
    "F_alcohol = pd.read_sas('NHANES_files/alcohol_consumption/F_alcohol_ALQ_F.XPT') #alcohol consumption\n",
    "\n",
    "F_medical_cond = pd.read_sas('NHANES_files/medical_conditions/F_med_con_MCQ_F.XPT') #medical conditions\n",
    "\n",
    "F_work_info = pd.read_sas('NHANES_files/work_info/F_work_OCQ_F.XPT') #work info"
   ]
  },
  {
   "cell_type": "code",
   "execution_count": 6,
   "metadata": {},
   "outputs": [],
   "source": [
    "# merge lists together on each respondents 'sequence number'\n",
    "\n",
    "F_merged_total = reduce(lambda x,y: pd.merge(x,y, on='SEQN', how='outer'),\n",
    "                        [F_blood_press, F_body_meas,\n",
    "                         F_diet, F_smoking, F_physical_act,\n",
    "                         F_age_gender_race, F_alcohol,\n",
    "                         F_medical_cond, F_work_info])"
   ]
  },
  {
   "cell_type": "code",
   "execution_count": 8,
   "metadata": {},
   "outputs": [],
   "source": [
    "#narrow df to only the features & target we want to explor for model\n",
    "\n",
    "F_filtered = F_merged_total[[\"SEQN\",\"BPXSY1\",\"BPXSY2\",\"BPXSY3\",\n",
    "                             \"BPXDI1\",\"BPXDI2\",\"BPXDI3\",\n",
    "                             \"BMXBMI\",\"BMXWAIST\",\"BMXHT\",\n",
    "                             \"BMXWT\", \"DBD895\",\"DBD905\",\n",
    "                             \"DBD910\",\"SMQ020\",\"SMQ040\",\n",
    "                             \"PAQ605\",\"PAQ620\",\"PAQ635\",\n",
    "                             \"PAQ650\",\"PAD680\",\"RIAGENDR\",\n",
    "                             \"RIDAGEYR\",\"RIDRETH1\",\n",
    "                             \"ALQ101\",\"ALQ130\",\"OCD150\",\n",
    "                             \"OCQ180\",\n",
    "                            ]]"
   ]
  },
  {
   "cell_type": "markdown",
   "metadata": {},
   "source": [
    "-"
   ]
  },
  {
   "cell_type": "markdown",
   "metadata": {},
   "source": [
    "#### G: 2011-2012 file pull and merge:"
   ]
  },
  {
   "cell_type": "code",
   "execution_count": 9,
   "metadata": {},
   "outputs": [],
   "source": [
    "# Pull in XPT files to create dataframes\n",
    "\n",
    "G_blood_press = pd.read_sas('NHANES_files/blood_pressure/G_BloodPressure_BPX_G.XPT') #blood pressure (target)\n",
    "\n",
    "G_body_meas = pd.read_sas('NHANES_files/body_measures/G_BodyMeasures_BMX_G.XPT') #body measures\n",
    "\n",
    "G_diet = pd.read_sas('NHANES_files/dietary_selections/G_diet_DBQ_G.XPT') #dietary selections\n",
    "                    \n",
    "G_smoking = pd.read_sas('NHANES_files/smoking_status/G_smoking_SMQ_G.XPT') #smoking status\n",
    "\n",
    "G_physical_act = pd.read_sas('NHANES_files/physical_activity/G_physical_act_PAQ_G.XPT') #physical activity\n",
    "\n",
    "G_age_gender_race = pd.read_sas('NHANES_files/age_gender_race/G_demographic_DEMO_G.XPT') #age, gender, & race\n",
    "\n",
    "G_alcohol = pd.read_sas('NHANES_files/alcohol_consumption/G_alcohol_ALQ_G.XPT') #alcohol consumption\n",
    "\n",
    "G_medical_cond = pd.read_sas('NHANES_files/medical_conditions/G_med_con_MCQ_G.XPT') #medical conditions\n",
    "\n",
    "G_work_info = pd.read_sas('NHANES_files/work_info/G_work_OCQ_G.XPT') #work info"
   ]
  },
  {
   "cell_type": "code",
   "execution_count": 10,
   "metadata": {},
   "outputs": [],
   "source": [
    "# merge lists together on each respondents 'sequence number'\n",
    "\n",
    "G_merged_total = reduce(lambda x,y: pd.merge(x,y, on='SEQN', how='outer'),\n",
    "                        [G_blood_press, G_body_meas,\n",
    "                         G_diet, G_smoking, G_physical_act,\n",
    "                         G_age_gender_race, G_alcohol,\n",
    "                         G_medical_cond, G_work_info])"
   ]
  },
  {
   "cell_type": "code",
   "execution_count": 11,
   "metadata": {},
   "outputs": [],
   "source": [
    "#narrow df to only the features & target we want to explor for model\n",
    "\n",
    "G_filtered = G_merged_total[[\"SEQN\",\"BPXSY1\",\"BPXSY2\",\"BPXSY3\",\n",
    "                             \"BPXDI1\",\"BPXDI2\",\"BPXDI3\",\n",
    "                             \"BMXBMI\",\"BMXWAIST\",\"BMXHT\",\n",
    "                             \"BMXWT\", \"DBD895\",\"DBD905\",\n",
    "                             \"DBD910\",\"SMQ020\",\"SMQ040\",\n",
    "                             \"PAQ605\",\"PAQ620\",\"PAQ635\",\n",
    "                             \"PAQ650\",\"PAD680\",\"RIAGENDR\",\n",
    "                             \"RIDAGEYR\",\"RIDRETH1\",\n",
    "                             \"ALQ101\",\"ALQ130\",\"OCD150\",\n",
    "                             \"OCQ180\",\n",
    "                            ]]"
   ]
  },
  {
   "cell_type": "markdown",
   "metadata": {},
   "source": [
    "-"
   ]
  },
  {
   "cell_type": "markdown",
   "metadata": {},
   "source": [
    "#### H: 2013-2014 file pull and merge:"
   ]
  },
  {
   "cell_type": "code",
   "execution_count": 12,
   "metadata": {},
   "outputs": [],
   "source": [
    "# Pull in XPT files to create dataframes\n",
    "\n",
    "H_blood_press = pd.read_sas('NHANES_files/blood_pressure/H_BloodPressure_BPX_H.XPT') #blood pressure (target)\n",
    "\n",
    "H_body_meas = pd.read_sas('NHANES_files/body_measures/H_BodyMeasures_BMX_H.XPT') #body measures\n",
    "\n",
    "H_diet = pd.read_sas('NHANES_files/dietary_selections/H_diet_DBQ_H.XPT') #dietary selections\n",
    "                    \n",
    "H_smoking = pd.read_sas('NHANES_files/smoking_status/H_smoking_SMQ_H.XPT') #smoking status\n",
    "\n",
    "H_physical_act = pd.read_sas('NHANES_files/physical_activity/H_physical_act_PAQ_H.XPT') #physical activity\n",
    "\n",
    "H_age_gender_race = pd.read_sas('NHANES_files/age_gender_race/H_demographic_DEMO_H.XPT') #age, gender, & race\n",
    "\n",
    "H_alcohol = pd.read_sas('NHANES_files/alcohol_consumption/H_alcohol_ALQ_H.XPT') #alcohol consumption\n",
    "\n",
    "H_medical_cond = pd.read_sas('NHANES_files/medical_conditions/H_med_con_MCQ_H.XPT') #medical conditions\n",
    "\n",
    "H_work_info = pd.read_sas('NHANES_files/work_info/H_work_OCQ_H.XPT') #work info"
   ]
  },
  {
   "cell_type": "code",
   "execution_count": 13,
   "metadata": {},
   "outputs": [],
   "source": [
    "# merge lists together on each respondents 'sequence number'\n",
    "\n",
    "H_merged_total = reduce(lambda x,y: pd.merge(x,y, on='SEQN', how='outer'),\n",
    "                        [H_blood_press, H_body_meas,\n",
    "                         H_diet, H_smoking, H_physical_act,\n",
    "                         H_age_gender_race, H_alcohol,\n",
    "                         H_medical_cond, H_work_info])"
   ]
  },
  {
   "cell_type": "code",
   "execution_count": 14,
   "metadata": {},
   "outputs": [],
   "source": [
    "H_filtered = H_merged_total[[\"SEQN\",\"BPXSY1\",\"BPXSY2\",\"BPXSY3\",\n",
    "                             \"BPXDI1\",\"BPXDI2\",\"BPXDI3\",\n",
    "                             \"BMXBMI\",\"BMXWAIST\",\"BMXHT\",\n",
    "                             \"BMXWT\", \"DBD895\",\"DBD905\",\n",
    "                             \"DBD910\",\"SMQ020\",\"SMQ040\",\n",
    "                             \"PAQ605\",\"PAQ620\",\"PAQ635\",\n",
    "                             \"PAQ650\",\"PAD680\",\"RIAGENDR\",\n",
    "                             \"RIDAGEYR\",\"RIDRETH1\",\n",
    "                             \"ALQ101\",\"ALQ130\",\"OCD150\",\n",
    "                             \"OCQ180\",\n",
    "                            ]]"
   ]
  },
  {
   "cell_type": "markdown",
   "metadata": {},
   "source": [
    "-"
   ]
  },
  {
   "cell_type": "markdown",
   "metadata": {},
   "source": [
    "#### I: 2015-2016 file pull and merge:"
   ]
  },
  {
   "cell_type": "code",
   "execution_count": 17,
   "metadata": {},
   "outputs": [],
   "source": [
    "# Pull in XPT files to create dataframes\n",
    "\n",
    "I_blood_press = pd.read_sas('NHANES_files/blood_pressure/I_BloodPressure_BPX_I.XPT') #blood pressure (target)\n",
    "\n",
    "I_body_meas = pd.read_sas('NHANES_files/body_measures/I_BodyMeasures_BMX_I.XPT') #body measures\n",
    "\n",
    "I_diet = pd.read_sas('NHANES_files/dietary_selections/I_diet_DBQ_I.XPT') #dietary selections\n",
    "                    \n",
    "I_smoking = pd.read_sas('NHANES_files/smoking_status/I_smoking_SMQ_I.XPT') #smoking status\n",
    "\n",
    "I_physical_act = pd.read_sas('NHANES_files/physical_activity/I_physical_act_PAQ_I.XPT') #physical activity\n",
    "\n",
    "I_age_gender_race = pd.read_sas('NHANES_files/age_gender_race/I_demographic_DEMO_I.XPT') #age, gender, & race\n",
    "\n",
    "I_alcohol = pd.read_sas('NHANES_files/alcohol_consumption/I_alcohol_ALQ_I.XPT') #alcohol consumption\n",
    "\n",
    "I_medical_cond = pd.read_sas('NHANES_files/medical_conditions/I_med_con_MCQ_I.XPT') #medical conditions\n",
    "\n",
    "I_work_info = pd.read_sas('NHANES_files/work_info/I_work_OCQ_I.XPT') #work info"
   ]
  },
  {
   "cell_type": "code",
   "execution_count": 18,
   "metadata": {},
   "outputs": [],
   "source": [
    "# merge lists together on each respondents 'sequence number'\n",
    "\n",
    "I_merged_total = reduce(lambda x,y: pd.merge(x,y, on='SEQN', how='outer'),\n",
    "                        [I_blood_press, I_body_meas,\n",
    "                         I_diet, I_smoking, I_physical_act,\n",
    "                         I_age_gender_race, I_alcohol,\n",
    "                         I_medical_cond, I_work_info])"
   ]
  },
  {
   "cell_type": "code",
   "execution_count": 19,
   "metadata": {},
   "outputs": [],
   "source": [
    "I_filtered = I_merged_total[[\"SEQN\",\"BPXSY1\",\"BPXSY2\",\"BPXSY3\",\n",
    "                             \"BPXDI1\",\"BPXDI2\",\"BPXDI3\",\n",
    "                             \"BMXBMI\",\"BMXWAIST\",\"BMXHT\",\n",
    "                             \"BMXWT\", \"DBD895\",\"DBD905\",\n",
    "                             \"DBD910\",\"SMQ020\",\"SMQ040\",\n",
    "                             \"PAQ605\",\"PAQ620\",\"PAQ635\",\n",
    "                             \"PAQ650\",\"PAD680\",\"RIAGENDR\",\n",
    "                             \"RIDAGEYR\",\"RIDRETH1\",\n",
    "                             \"ALQ101\",\"ALQ130\",\"OCD150\",\n",
    "                             \"OCQ180\",\n",
    "                            ]]"
   ]
  },
  {
   "cell_type": "markdown",
   "metadata": {},
   "source": [
    "-\n",
    "### STEP 2: CREATE MASTER LIST\n",
    "Now combine all 2-year dataframes created above and clean up the data."
   ]
  },
  {
   "cell_type": "markdown",
   "metadata": {},
   "source": [
    "Stack all of the dataframes >"
   ]
  },
  {
   "cell_type": "code",
   "execution_count": 20,
   "metadata": {},
   "outputs": [],
   "source": [
    "full_dataset = pd.concat([E_filtered, F_filtered,\n",
    "                          G_filtered, H_filtered,\n",
    "                          I_filtered],\n",
    "                         ignore_index=True)"
   ]
  },
  {
   "cell_type": "markdown",
   "metadata": {},
   "source": [
    "\n",
    "Pickle & csv the full dataset to save >"
   ]
  },
  {
   "cell_type": "code",
   "execution_count": 21,
   "metadata": {},
   "outputs": [],
   "source": [
    "with open('pickles/full_dataset.pickle', 'wb') as to_write:\n",
    "    pickle.dump(full_dataset, to_write)"
   ]
  },
  {
   "cell_type": "code",
   "execution_count": 22,
   "metadata": {},
   "outputs": [],
   "source": [
    "full_dataset.to_csv('csv/full_dataset.csv')"
   ]
  },
  {
   "cell_type": "markdown",
   "metadata": {},
   "source": [
    "Now un-pickle to work with full dataset >"
   ]
  },
  {
   "cell_type": "code",
   "execution_count": 23,
   "metadata": {},
   "outputs": [],
   "source": [
    "with open('pickles/full_dataset.pickle','rb') as read_file:\n",
    "    nhanes_data = pickle.load(read_file)"
   ]
  },
  {
   "cell_type": "markdown",
   "metadata": {},
   "source": [
    "Now let's clean up the dataset >\n",
    "\n"
   ]
  },
  {
   "cell_type": "code",
   "execution_count": 24,
   "metadata": {},
   "outputs": [],
   "source": [
    "nhanes_data.rename(columns={\"SEQN\":\"Patient_ID\",\n",
    "                            \"BPXSY1\": \"Systolic_1Rd\",\n",
    "                            \"BPXSY2\": \"Systolic_2Rd\",\n",
    "                            \"BPXSY3\": \"Systolic_3Rd\",\n",
    "                            \"BPXDI1\": \"Diastolic_1Rd\",\n",
    "                            \"BPXDI2\": \"Diastolic_2Rd\",\n",
    "                            \"BPXDI3\": \"Diastolic_3Rd\",\n",
    "                            \"BMXBMI\": \"BMI\",\n",
    "                            \"BMXWAIST\": \"Waist_Circum\",\n",
    "                            \"BMXHT\": \"Height\",\n",
    "                            \"BMXWT\": \"Weight\",\n",
    "                            \"DBD895\": \"Eat_Out\",\n",
    "                            \"DBD905\": \"Ready_to_Eat\",\n",
    "                            \"DBD910\": \"Frozen_Foods\",\n",
    "                            \"SMQ020\": \"Smoked_Hund\",\n",
    "                            \"SMQ040\": \"Curr_Smoke\",\n",
    "                            \"PAQ605\": \"Work_Vig_Act\",\n",
    "                            \"PAQ620\": \"Work_Mod_Act\",\n",
    "                            \"PAQ635\": \"Walk_Bike\",\n",
    "                            \"PAQ650\": \"Rec_Vig_Act\",\n",
    "                            \"PAD680\": \"Sitting_Time\",\n",
    "                            \"RIAGENDR\": \"Gender\",\n",
    "                            \"RIDAGEYR\": \"Age\",\n",
    "                            \"RIDRETH1\": \"Race\",\n",
    "                            \"ALQ101\": \"Twelve_Alcohol\",\n",
    "                            \"ALQ130\": \"Alcohol_Amt\",\n",
    "                            \"OCD150\": \"Job_Type\",\n",
    "                            \"OCQ180\": \"Num_Hrs_Worked_Wk\"\n",
    "                           }, inplace=True)"
   ]
  },
  {
   "cell_type": "markdown",
   "metadata": {},
   "source": [
    "Replace codes used in certain columns with applicable text >"
   ]
  },
  {
   "cell_type": "markdown",
   "metadata": {},
   "source": [
    "### CLEANING FEATURES\n",
    "\n",
    "We'll now look at each feature individually and clean as needed to work for our model >"
   ]
  },
  {
   "cell_type": "markdown",
   "metadata": {},
   "source": [
    "First, BMI, Waist circumference, height, and weight don't seem to need any cleaning, but let's look at distributions to be certain >\n"
   ]
  },
  {
   "cell_type": "code",
   "execution_count": 101,
   "metadata": {},
   "outputs": [
    {
     "data": {
      "image/png": "[encoded data removed]",
      "text/plain": [
       "<Figure size 432x288 with 1 Axes>"
      ]
     },
     "metadata": {
      "needs_background": "light"
     },
     "output_type": "display_data"
    }
   ],
   "source": [
    "plt.hist(nhanes_data['BMI'], color='#4287f5')\n",
    "plt.title('Distribution')\n",
    "plt.xlabel('BMI (kg/m**2)')\n",
    "plt.ylabel('frequency');"
   ]
  },
  {
   "cell_type": "code",
   "execution_count": 102,
   "metadata": {},
   "outputs": [
    {
     "data": {
      "image/png": "[encoded data removed]",
      "text/plain": [
       "<Figure size 432x288 with 1 Axes>"
      ]
     },
     "metadata": {
      "needs_background": "light"
     },
     "output_type": "display_data"
    }
   ],
   "source": [
    "plt.hist(nhanes_data[\"Waist_Circum\"], color='#4287f5')\n",
    "plt.title('Distribution')\n",
    "plt.xlabel('Circumference of waist (cm)')\n",
    "plt.ylabel('frequency');"
   ]
  },
  {
   "cell_type": "code",
   "execution_count": 100,
   "metadata": {},
   "outputs": [
    {
     "data": {
      "image/png": "[encoded data removed]",
      "text/plain": [
       "<Figure size 432x288 with 1 Axes>"
      ]
     },
     "metadata": {
      "needs_background": "light"
     },
     "output_type": "display_data"
    }
   ],
   "source": [
    "plt.hist(nhanes_data[\"Height\"], color='#4287f5')\n",
    "plt.title('Distribution')\n",
    "plt.xlabel('Height (cm)')\n",
    "plt.ylabel('frequency');"
   ]
  },
  {
   "cell_type": "code",
   "execution_count": 99,
   "metadata": {},
   "outputs": [
    {
     "data": {
      "image/png": "[encoded data removed]",
      "text/plain": [
       "<Figure size 432x288 with 1 Axes>"
      ]
     },
     "metadata": {
      "needs_background": "light"
     },
     "output_type": "display_data"
    }
   ],
   "source": [
    "plt.hist(nhanes_data[\"Weight\"], color='#4287f5')\n",
    "plt.title('Distribution')\n",
    "plt.xlabel('Weight (kg)')\n",
    "plt.ylabel('frequency');"
   ]
  },
  {
   "cell_type": "markdown",
   "metadata": {},
   "source": [
    "-</br>\n",
    "#### SMOKED OVER 100 CIGARETTES IN LIFETIME - feature clean"
   ]
  },
  {
   "cell_type": "code",
   "execution_count": 29,
   "metadata": {},
   "outputs": [],
   "source": [
    "# 1.0 = Yes and 2.0 = No, so changing to 1 and 0 so can work as dummy category\n",
    "nhanes_data['Smoked_Hund'].replace({1.0: 1, 2.0: 0}, inplace=True)\n",
    "\n",
    "# dropped 'refused' (code = 7.0) and 'don't know' (code=9.0) values\n",
    "smoke_indices = nhanes_data[(nhanes_data['Smoked_Hund'] == 9.0)\n",
    "                            | (nhanes_data['Smoked_Hund'] == 7.0)\n",
    "                           ].index\n",
    "\n",
    "nhanes_data.drop(smoke_indices, inplace=True)\n",
    "\n",
    "\n",
    "# drop all null values -- we want to know this person's relationship with smoking as\n",
    "#     it could be a key feature\n",
    "nhanes_data = nhanes_data.dropna(axis=0, subset=['Smoked_Hund'])\n",
    "\n"
   ]
  },
  {
   "cell_type": "code",
   "execution_count": 30,
   "metadata": {},
   "outputs": [
    {
     "data": {
      "text/plain": [
       "0.0    16754\n",
       "1.0    13038\n",
       "Name: Smoked_Hund, dtype: int64"
      ]
     },
     "execution_count": 30,
     "metadata": {},
     "output_type": "execute_result"
    }
   ],
   "source": [
    "#verify values look how want\n",
    "\n",
    "nhanes_data['Smoked_Hund'].value_counts()"
   ]
  },
  {
   "cell_type": "code",
   "execution_count": 31,
   "metadata": {},
   "outputs": [
    {
     "data": {
      "image/png": "[encoded data removed]",
      "text/plain": [
       "<Figure size 432x288 with 1 Axes>"
      ]
     },
     "metadata": {
      "needs_background": "light"
     },
     "output_type": "display_data"
    }
   ],
   "source": [
    "plt.hist(nhanes_data['Smoked_Hund'], color='#4287f5')\n",
    "plt.title('Distribution')\n",
    "plt.xlabel('smoked more then one hundred cigarettes? N/Y')\n",
    "plt.ylabel('frequency');"
   ]
  },
  {
   "cell_type": "markdown",
   "metadata": {},
   "source": [
    "-</br>\n",
    "#### CURRENTLY SMOKING - feature clean"
   ]
  },
  {
   "cell_type": "code",
   "execution_count": 32,
   "metadata": {},
   "outputs": [],
   "source": [
    "# nhanes code:\n",
    "# 1.0 = Everyday\n",
    "# 2.0 = Some days\n",
    "# 3.0 = Never\n",
    "# 7.0 = Refused\n",
    "# Changing this to a simple yes/no answer, 1 = yes, 0 = no\n",
    "nhanes_data[\"Curr_Smoke\"].replace({1.0: 1, 2.0: 1,\n",
    "                                   3.0: 0},\n",
    "                                  inplace=True)\n",
    "\n",
    "# dropped 'refused' (code = 7.0)\n",
    "cur_smoke_indices = nhanes_data[(nhanes_data[\"Curr_Smoke\"] == 7.0)\n",
    "                           ].index\n",
    "\n",
    "nhanes_data.drop(cur_smoke_indices, inplace=True)\n",
    "\n",
    "\n",
    "# fill all null values -- people who had answered they hadn't smoked \n",
    "#    more than 100 times in 'Smoked_Hund'\n",
    "#    so we want to just change the null values to 0 to indicate 0 times\n",
    "#    they are currently smoking\n",
    "\n",
    "nhanes_data[\"Curr_Smoke\"].fillna(0, inplace = True)\n",
    "\n"
   ]
  },
  {
   "cell_type": "code",
   "execution_count": 33,
   "metadata": {},
   "outputs": [
    {
     "data": {
      "text/plain": [
       "0.0    23684\n",
       "1.0     6105\n",
       "Name: Curr_Smoke, dtype: int64"
      ]
     },
     "execution_count": 33,
     "metadata": {},
     "output_type": "execute_result"
    }
   ],
   "source": [
    "nhanes_data[\"Curr_Smoke\"].value_counts()"
   ]
  },
  {
   "cell_type": "code",
   "execution_count": 34,
   "metadata": {},
   "outputs": [
    {
     "data": {
      "image/png": "[encoded data removed]",
      "text/plain": [
       "<Figure size 432x288 with 1 Axes>"
      ]
     },
     "metadata": {
      "needs_background": "light"
     },
     "output_type": "display_data"
    }
   ],
   "source": [
    "plt.hist(nhanes_data[\"Curr_Smoke\"], color='#4287f5')\n",
    "plt.title('Distribution')\n",
    "plt.xlabel('Currently smoke? N/Y')\n",
    "plt.ylabel('frequency');"
   ]
  },
  {
   "cell_type": "markdown",
   "metadata": {},
   "source": [
    "-</br>\n",
    "#### VIGOROUS WORK ACTIVITY - feature clean"
   ]
  },
  {
   "cell_type": "code",
   "execution_count": 35,
   "metadata": {},
   "outputs": [],
   "source": [
    "# vigorous work activity\n",
    "# 1.0 = Yes and 2.0 = No, so changing to 1 and 0 so can work as dummy category\n",
    "# dropped 'refused' (code = 7.0) and 'don't know' (code=9.0) values\n",
    "\n",
    "nhanes_data['Work_Vig_Act'].replace({1.0: 1, 2.0: 0}, inplace=True)\n",
    "\n",
    "w_vig_act_indices = nhanes_data[(nhanes_data['Work_Vig_Act'] == 9.0)\n",
    "                                | (nhanes_data['Work_Vig_Act'] == 7.0)\n",
    "                               ].index\n",
    "\n",
    "nhanes_data.drop(w_vig_act_indices, inplace=True)"
   ]
  },
  {
   "cell_type": "code",
   "execution_count": 36,
   "metadata": {},
   "outputs": [
    {
     "data": {
      "text/plain": [
       "0.0    24348\n",
       "1.0     5436\n",
       "Name: Work_Vig_Act, dtype: int64"
      ]
     },
     "execution_count": 36,
     "metadata": {},
     "output_type": "execute_result"
    }
   ],
   "source": [
    "#verify values look how want\n",
    "\n",
    "nhanes_data['Work_Vig_Act'].value_counts()"
   ]
  },
  {
   "cell_type": "code",
   "execution_count": 37,
   "metadata": {},
   "outputs": [
    {
     "data": {
      "image/png": "[encoded data removed]",
      "text/plain": [
       "<Figure size 432x288 with 1 Axes>"
      ]
     },
     "metadata": {
      "needs_background": "light"
     },
     "output_type": "display_data"
    }
   ],
   "source": [
    "plt.hist(nhanes_data[\"Work_Vig_Act\"], color='#4287f5')\n",
    "plt.title('Distribution')\n",
    "plt.xlabel('Do you have vigorous activity at work? N/Y')\n",
    "plt.ylabel('frequency');"
   ]
  },
  {
   "cell_type": "markdown",
   "metadata": {},
   "source": [
    "-</br>\n",
    "#### MODERATE WORK ACTIVITY - feature clean"
   ]
  },
  {
   "cell_type": "code",
   "execution_count": 38,
   "metadata": {},
   "outputs": [],
   "source": [
    "# moderate work activity\n",
    "# 1.0 = Yes and 2.0 = No, so changing to 1 and 0 so can work as dummy category\n",
    "# dropped 'don't know' (code=9.0) values\n",
    "\n",
    "nhanes_data['Work_Mod_Act'].replace({1.0: 1, 2.0: 0}, inplace=True)\n",
    "\n",
    "w_mod_act_indices = nhanes_data[(nhanes_data['Work_Mod_Act'] == 9.0)].index\n",
    "\n",
    "nhanes_data.drop(w_mod_act_indices, inplace=True)"
   ]
  },
  {
   "cell_type": "code",
   "execution_count": 39,
   "metadata": {},
   "outputs": [
    {
     "data": {
      "text/plain": [
       "0.0    19478\n",
       "1.0    10298\n",
       "Name: Work_Mod_Act, dtype: int64"
      ]
     },
     "execution_count": 39,
     "metadata": {},
     "output_type": "execute_result"
    }
   ],
   "source": [
    "#verify values look how want\n",
    "\n",
    "nhanes_data['Work_Mod_Act'].value_counts()"
   ]
  },
  {
   "cell_type": "code",
   "execution_count": 40,
   "metadata": {},
   "outputs": [
    {
     "data": {
      "image/png": "[encoded data removed]",
      "text/plain": [
       "<Figure size 432x288 with 1 Axes>"
      ]
     },
     "metadata": {
      "needs_background": "light"
     },
     "output_type": "display_data"
    }
   ],
   "source": [
    "plt.hist(nhanes_data[\"Work_Mod_Act\"], color='#4287f5')\n",
    "plt.title('Distribution')\n",
    "plt.xlabel('Do you have moderate activity at work? N/Y')\n",
    "plt.ylabel('frequency');"
   ]
  },
  {
   "cell_type": "markdown",
   "metadata": {},
   "source": [
    "-</br>\n",
    "#### WALK OR BICYCLE ACTIVITY - feature clean"
   ]
  },
  {
   "cell_type": "code",
   "execution_count": 41,
   "metadata": {},
   "outputs": [],
   "source": [
    "# walk or bicycle at least for 10 min continuous in typical week\n",
    "# 1.0 = Yes and 2.0 = No, so changing to 1 and 0 so can work as dummy category\n",
    "# dropped 'don't know' (code=9.0) values\n",
    "\n",
    "nhanes_data['Walk_Bike'].replace({1.0: 1, 2.0: 0}, inplace=True)\n",
    "\n",
    "walk_bike_indices = nhanes_data[(nhanes_data['Walk_Bike'] == 9.0)].index\n",
    "\n",
    "nhanes_data.drop(walk_bike_indices, inplace=True)"
   ]
  },
  {
   "cell_type": "code",
   "execution_count": 42,
   "metadata": {},
   "outputs": [
    {
     "data": {
      "text/plain": [
       "0.0    22042\n",
       "1.0     7732\n",
       "Name: Walk_Bike, dtype: int64"
      ]
     },
     "execution_count": 42,
     "metadata": {},
     "output_type": "execute_result"
    }
   ],
   "source": [
    "nhanes_data['Walk_Bike'].value_counts()"
   ]
  },
  {
   "cell_type": "code",
   "execution_count": 43,
   "metadata": {},
   "outputs": [
    {
     "data": {
      "image/png": "[encoded data removed]",
      "text/plain": [
       "<Figure size 432x288 with 1 Axes>"
      ]
     },
     "metadata": {
      "needs_background": "light"
     },
     "output_type": "display_data"
    }
   ],
   "source": [
    "plt.hist(nhanes_data[\"Walk_Bike\"], color='#4287f5')\n",
    "plt.title('Distribution')\n",
    "plt.xlabel('Do you walk or bike for more than 10 min per week? N/Y')\n",
    "plt.ylabel('frequency');"
   ]
  },
  {
   "cell_type": "markdown",
   "metadata": {},
   "source": [
    "-</br>\n",
    "#### VIGOROUS RECREATIONAL ACTIVITY - feature clean"
   ]
  },
  {
   "cell_type": "code",
   "execution_count": 44,
   "metadata": {},
   "outputs": [],
   "source": [
    "# vigorous-intensity fitness or activities for 10 min continuous in typical week\n",
    "# 1.0 = Yes and 2.0 = No, so changing to 1 and 0 so can work as dummy category\n",
    "# dropped 'don't know' (code=9.0) values\n",
    "\n",
    "nhanes_data['Rec_Vig_Act'].replace({1.0: 1, 2.0: 0}, inplace=True)\n",
    "\n",
    "rec_vig_indices = nhanes_data[(nhanes_data['Rec_Vig_Act'] == 9.0)\n",
    "                             ].index\n",
    "\n",
    "nhanes_data.drop(rec_vig_indices, inplace=True)"
   ]
  },
  {
   "cell_type": "code",
   "execution_count": 45,
   "metadata": {},
   "outputs": [
    {
     "data": {
      "text/plain": [
       "0.0    23317\n",
       "1.0     6456\n",
       "Name: Rec_Vig_Act, dtype: int64"
      ]
     },
     "execution_count": 45,
     "metadata": {},
     "output_type": "execute_result"
    }
   ],
   "source": [
    "nhanes_data['Rec_Vig_Act'].value_counts()"
   ]
  },
  {
   "cell_type": "code",
   "execution_count": 46,
   "metadata": {},
   "outputs": [
    {
     "data": {
      "image/png": "[encoded data removed]",
      "text/plain": [
       "<Figure size 432x288 with 1 Axes>"
      ]
     },
     "metadata": {
      "needs_background": "light"
     },
     "output_type": "display_data"
    }
   ],
   "source": [
    "plt.hist(nhanes_data[\"Rec_Vig_Act\"], color='#4287f5')\n",
    "plt.title('Distribution')\n",
    "plt.xlabel('Do you have vigorous activity outside of work? N/Y')\n",
    "plt.ylabel('frequency');"
   ]
  },
  {
   "cell_type": "markdown",
   "metadata": {},
   "source": [
    "-</br>\n",
    "#### SITTING TIME - feature clean"
   ]
  },
  {
   "cell_type": "code",
   "execution_count": 47,
   "metadata": {},
   "outputs": [],
   "source": [
    "# sitting time\n",
    "# category uses extremely low number for 'none' -- replaced with 0\n",
    "# dropped values that represent 'don't know' or 'missing'\n",
    "\n",
    "sit_indices = nhanes_data[(nhanes_data['Sitting_Time'] == 7777.0)\n",
    "                          | (nhanes_data['Sitting_Time'] == 9999.0)\n",
    "                         ].index\n",
    "\n",
    "nhanes_data['Sitting_Time'].replace({5.397605346934028e-79: 0}, inplace=True)\n",
    "\n",
    "nhanes_data.drop(sit_indices, inplace=True)"
   ]
  },
  {
   "cell_type": "code",
   "execution_count": 48,
   "metadata": {},
   "outputs": [
    {
     "data": {
      "text/plain": [
       "480.0    4127\n",
       "240.0    3805\n",
       "180.0    3376\n",
       "360.0    3331\n",
       "300.0    3021\n",
       "         ... \n",
       "230.0       1\n",
       "81.0        1\n",
       "490.0       1\n",
       "140.0       1\n",
       "100.0       1\n",
       "Name: Sitting_Time, Length: 61, dtype: int64"
      ]
     },
     "execution_count": 48,
     "metadata": {},
     "output_type": "execute_result"
    }
   ],
   "source": [
    "nhanes_data['Sitting_Time'].value_counts()"
   ]
  },
  {
   "cell_type": "code",
   "execution_count": 49,
   "metadata": {},
   "outputs": [
    {
     "data": {
      "image/png": "[encoded data removed]",
      "text/plain": [
       "<Figure size 432x288 with 1 Axes>"
      ]
     },
     "metadata": {
      "needs_background": "light"
     },
     "output_type": "display_data"
    }
   ],
   "source": [
    "plt.hist(nhanes_data[\"Sitting_Time\"], color='#4287f5')\n",
    "plt.title('Distribution')\n",
    "plt.xlabel('Average daily time spent sitting (min)')\n",
    "plt.ylabel('frequency');"
   ]
  },
  {
   "cell_type": "markdown",
   "metadata": {},
   "source": [
    "-</br>\n",
    "#### AGE - feature clean"
   ]
  },
  {
   "cell_type": "code",
   "execution_count": 50,
   "metadata": {},
   "outputs": [],
   "source": [
    "# dropping those that are under age 18 to focus range with assumption\n",
    "#    younger than 15 are not at risk -- or would be anomaly if they do\n",
    "#    and also make data more uniform for age since heavier number of \n",
    "#   those under compared to \n",
    "\n",
    "age_indices = nhanes_data[(nhanes_data['Age'] < 18)\n",
    "                         ].index\n",
    "\n",
    "nhanes_data.drop(age_indices, inplace=True)"
   ]
  },
  {
   "cell_type": "code",
   "execution_count": 51,
   "metadata": {},
   "outputs": [
    {
     "data": {
      "text/plain": [
       "array([62., 71., 52., 21., 64., 66., 30., 61., 27., 40., 72., 77., 68.,\n",
       "       70., 29., 63., 48., 33., 35., 80., 74., 50., 28., 51., 44., 43.,\n",
       "       37., 60., 45., 49., 24., 54., 78., 38., 46., 55., 32., 57., 76.,\n",
       "       67., 25., 36., 75., 20., 41., 26., 23., 73., 58., 22., 31., 42.,\n",
       "       47., 53., 69., 79., 34., 65., 59., 56., 39., 18., 19.])"
      ]
     },
     "execution_count": 51,
     "metadata": {},
     "output_type": "execute_result"
    }
   ],
   "source": [
    "nhanes_data.Age.unique()"
   ]
  },
  {
   "cell_type": "code",
   "execution_count": 52,
   "metadata": {},
   "outputs": [
    {
     "data": {
      "image/png": "[encoded data removed]",
      "text/plain": [
       "<Figure size 432x288 with 1 Axes>"
      ]
     },
     "metadata": {
      "needs_background": "light"
     },
     "output_type": "display_data"
    }
   ],
   "source": [
    "plt.hist(nhanes_data[\"Age\"], color='#4287f5')\n",
    "plt.title('Distribution')\n",
    "plt.xlabel('Age')\n",
    "plt.ylabel('frequency');"
   ]
  },
  {
   "cell_type": "markdown",
   "metadata": {},
   "source": [
    "-</br>\n",
    "#### GENDER - feature clean"
   ]
  },
  {
   "cell_type": "code",
   "execution_count": 53,
   "metadata": {},
   "outputs": [],
   "source": [
    "# 1.0 = Male and 2.0 = Female, so changing to 0 = Male and 1 = Female\n",
    "#   to work as dummy category\n",
    "\n",
    "nhanes_data['Gender'].replace({1.0: 0, 2.0: 1}, inplace=True)"
   ]
  },
  {
   "cell_type": "code",
   "execution_count": 54,
   "metadata": {},
   "outputs": [
    {
     "data": {
      "text/plain": [
       "1.0    15268\n",
       "0.0    14385\n",
       "Name: Gender, dtype: int64"
      ]
     },
     "execution_count": 54,
     "metadata": {},
     "output_type": "execute_result"
    }
   ],
   "source": [
    "nhanes_data['Gender'].value_counts()"
   ]
  },
  {
   "cell_type": "markdown",
   "metadata": {},
   "source": [
    "-</br>\n",
    "#### RACE - feature clean"
   ]
  },
  {
   "cell_type": "code",
   "execution_count": 55,
   "metadata": {},
   "outputs": [],
   "source": [
    "nhanes_data['Race'].replace({1.0: \"Mexican_American\", 2.0: \"Other_Hispanic\",\n",
    "                             3.0: \"Non_Hispanic_White\", 4.0: \"Non_Hispanic_Black\",\n",
    "                             5.0: \"Other_Race\"\n",
    "                            }, inplace=True)"
   ]
  },
  {
   "cell_type": "code",
   "execution_count": 56,
   "metadata": {},
   "outputs": [
    {
     "data": {
      "text/plain": [
       "Non_Hispanic_White    12207\n",
       "Non_Hispanic_Black     6276\n",
       "Mexican_American       4598\n",
       "Other_Race             3375\n",
       "Other_Hispanic         3197\n",
       "Name: Race, dtype: int64"
      ]
     },
     "execution_count": 56,
     "metadata": {},
     "output_type": "execute_result"
    }
   ],
   "source": [
    "nhanes_data['Race'].value_counts()"
   ]
  },
  {
   "cell_type": "code",
   "execution_count": 57,
   "metadata": {},
   "outputs": [
    {
     "data": {
      "image/png": "[encoded data removed]",
      "text/plain": [
       "<Figure size 720x360 with 1 Axes>"
      ]
     },
     "metadata": {
      "needs_background": "light"
     },
     "output_type": "display_data"
    }
   ],
   "source": [
    "plt.figure(figsize=(10,5))\n",
    "plt.hist(nhanes_data[\"Race\"], color='#4287f5')\n",
    "plt.title('Distribution')\n",
    "plt.xlabel('What race do you identify with?')\n",
    "plt.ylabel('frequency');"
   ]
  },
  {
   "cell_type": "markdown",
   "metadata": {},
   "source": [
    "-</br>\n",
    "#### EATING OUT FREQUENCY- feature clean"
   ]
  },
  {
   "cell_type": "code",
   "execution_count": 58,
   "metadata": {},
   "outputs": [],
   "source": [
    "# eating out\n",
    "# category uses extremely low number for 'none' -- replaced with 0\n",
    "# dropped values that represent 'don't know' or 'missing'\n",
    "# dropped values that represent those that ate over 21 meals (code = 5555.0) -- is a very small number and easier to manage data without\n",
    "\n",
    "nhanes_data['Eat_Out'].replace({5.397605346934028e-79: 0}, inplace=True)\n",
    "\n",
    "eat_indices = nhanes_data[(nhanes_data['Eat_Out'] == 7777.0)\n",
    "                          | (nhanes_data['Eat_Out'] == 9999.0)\n",
    "                          | (nhanes_data['Eat_Out'] == 5555.0)\n",
    "                         ].index\n",
    "\n",
    "nhanes_data.drop(eat_indices, inplace=True)"
   ]
  },
  {
   "cell_type": "code",
   "execution_count": 59,
   "metadata": {},
   "outputs": [
    {
     "data": {
      "text/plain": [
       "0.0     7089\n",
       "1.0     4856\n",
       "2.0     4534\n",
       "3.0     3549\n",
       "4.0     2147\n",
       "5.0     2143\n",
       "7.0     1641\n",
       "10.0     833\n",
       "6.0      736\n",
       "14.0     542\n",
       "8.0      333\n",
       "12.0     263\n",
       "21.0     254\n",
       "15.0     228\n",
       "9.0      149\n",
       "20.0      72\n",
       "18.0      60\n",
       "11.0      56\n",
       "13.0      45\n",
       "16.0      45\n",
       "17.0      22\n",
       "19.0      20\n",
       "Name: Eat_Out, dtype: int64"
      ]
     },
     "execution_count": 59,
     "metadata": {},
     "output_type": "execute_result"
    }
   ],
   "source": [
    "nhanes_data['Eat_Out'].value_counts()"
   ]
  },
  {
   "cell_type": "code",
   "execution_count": 60,
   "metadata": {},
   "outputs": [
    {
     "data": {
      "image/png": "[encoded data removed]",
      "text/plain": [
       "<Figure size 432x288 with 1 Axes>"
      ]
     },
     "metadata": {
      "needs_background": "light"
     },
     "output_type": "display_data"
    }
   ],
   "source": [
    "plt.hist(nhanes_data[\"Eat_Out\"], color='#4287f5')\n",
    "plt.title('Distribution')\n",
    "plt.xlabel('Number of times eat out of home in past 7 days')\n",
    "plt.ylabel('frequency');"
   ]
  },
  {
   "cell_type": "markdown",
   "metadata": {},
   "source": [
    "-</br>\n",
    "#### EAT READY-TO-EAT MEAL FREQUENCY - feature clean"
   ]
  },
  {
   "cell_type": "code",
   "execution_count": 61,
   "metadata": {},
   "outputs": [],
   "source": [
    "# ready-to-eat\n",
    "# category uses extremely low number for 'none' -- replaced with 0\n",
    "\n",
    "\n",
    "nhanes_data['Ready_to_Eat'].replace({5.397605346934028e-79: 0}, inplace=True)\n",
    "\n",
    "# dropped values that represent 'don't know' or 'missing'\n",
    "# also dropped values that were over 90 because anything more would mean a person\n",
    "#     is eating more than 3 meals a day that are ready-to-eat\n",
    "red_eat_indices = nhanes_data[(nhanes_data['Ready_to_Eat'] == 7777.0)\n",
    "                              | (nhanes_data['Ready_to_Eat'] == 9999.0)\n",
    "                              | (nhanes_data['Ready_to_Eat'] == 6666.0)\n",
    "                              | (nhanes_data['Ready_to_Eat'] > 90)\n",
    "                             ].index\n",
    "\n",
    "nhanes_data.drop(red_eat_indices, inplace=True)"
   ]
  },
  {
   "cell_type": "code",
   "execution_count": 62,
   "metadata": {},
   "outputs": [
    {
     "data": {
      "image/png": "[encoded data removed]",
      "text/plain": [
       "<Figure size 432x288 with 1 Axes>"
      ]
     },
     "metadata": {
      "needs_background": "light"
     },
     "output_type": "display_data"
    }
   ],
   "source": [
    "plt.hist(nhanes_data[\"Ready_to_Eat\"], color='#4287f5')\n",
    "plt.title('Distribution')\n",
    "plt.xlabel('Number of times eaten \"ready to eat\" meals in past 30 days')\n",
    "plt.ylabel('frequency');"
   ]
  },
  {
   "cell_type": "markdown",
   "metadata": {},
   "source": [
    "-"
   ]
  },
  {
   "cell_type": "markdown",
   "metadata": {},
   "source": [
    "#### FROZEN FOODS - feature clean"
   ]
  },
  {
   "cell_type": "code",
   "execution_count": 63,
   "metadata": {},
   "outputs": [],
   "source": [
    "# category uses extremely low number for 'none' -- replaced with 0\n",
    "nhanes_data['Frozen_Foods'].replace({5.397605346934028e-79: 0}, inplace=True)\n",
    "\n",
    "\n",
    "# dropped values that represent 'don't know' or 'missing'\n",
    "# also dropped values that were over 90 because anything more would mean a person\n",
    "#     is eating more than 3 meals a day that are frozen foods\n",
    "red_eat_indices = nhanes_data[(nhanes_data['Frozen_Foods'] == 7777.0)\n",
    "                              | (nhanes_data['Frozen_Foods'] == 9999.0)\n",
    "                              | (nhanes_data['Frozen_Foods'] == 6666.0)\n",
    "                              | (nhanes_data['Frozen_Foods'] > 90)\n",
    "                             ].index\n",
    "\n",
    "nhanes_data.drop(red_eat_indices, inplace=True)"
   ]
  },
  {
   "cell_type": "code",
   "execution_count": 64,
   "metadata": {
    "collapsed": true,
    "jupyter": {
     "outputs_hidden": true
    }
   },
   "outputs": [
    {
     "data": {
      "text/plain": [
       "0.0     18566\n",
       "1.0      2574\n",
       "2.0      2102\n",
       "4.0      1284\n",
       "3.0      1077\n",
       "5.0       756\n",
       "8.0       582\n",
       "10.0      498\n",
       "12.0      375\n",
       "30.0      305\n",
       "15.0      298\n",
       "6.0       258\n",
       "20.0      176\n",
       "7.0       170\n",
       "17.0      120\n",
       "21.0       90\n",
       "60.0       64\n",
       "25.0       53\n",
       "16.0       27\n",
       "90.0       22\n",
       "14.0       22\n",
       "9.0        19\n",
       "42.0        9\n",
       "11.0        6\n",
       "28.0        6\n",
       "13.0        6\n",
       "64.0        5\n",
       "23.0        4\n",
       "18.0        4\n",
       "50.0        3\n",
       "22.0        2\n",
       "85.0        2\n",
       "40.0        2\n",
       "29.0        2\n",
       "34.0        2\n",
       "55.0        1\n",
       "24.0        1\n",
       "32.0        1\n",
       "43.0        1\n",
       "88.0        1\n",
       "45.0        1\n",
       "47.0        1\n",
       "35.0        1\n",
       "26.0        1\n",
       "37.0        1\n",
       "19.0        1\n",
       "Name: Frozen_Foods, dtype: int64"
      ]
     },
     "execution_count": 64,
     "metadata": {},
     "output_type": "execute_result"
    }
   ],
   "source": [
    "nhanes_data['Frozen_Foods'].value_counts()"
   ]
  },
  {
   "cell_type": "code",
   "execution_count": 65,
   "metadata": {},
   "outputs": [
    {
     "data": {
      "image/png": "[encoded data removed]",
      "text/plain": [
       "<Figure size 432x288 with 1 Axes>"
      ]
     },
     "metadata": {
      "needs_background": "light"
     },
     "output_type": "display_data"
    }
   ],
   "source": [
    "plt.hist(nhanes_data[\"Frozen_Foods\"], color='#4287f5')\n",
    "plt.title('Distribution')\n",
    "plt.xlabel('Number of times eaten frozen food meals in past 30 days')\n",
    "plt.ylabel('frequency');"
   ]
  },
  {
   "cell_type": "markdown",
   "metadata": {},
   "source": [
    "-"
   ]
  },
  {
   "cell_type": "markdown",
   "metadata": {},
   "source": [
    "#### ALCOHOL CONSUMPTION PAST YEAR (OVER 12) - feature clean"
   ]
  },
  {
   "cell_type": "code",
   "execution_count": 66,
   "metadata": {},
   "outputs": [],
   "source": [
    "# 1.0 = Yes and 2.0 = No, so changing to 1 and 0 so can work as dummy category\n",
    "nhanes_data['Twelve_Alcohol'].replace({1.0: 1, 2.0: 0}, inplace=True)\n",
    "\n",
    "# dropped 'don't know' (code=9.0) values\n",
    "yr_alc_indices = nhanes_data[(nhanes_data['Twelve_Alcohol'] == 9.0)\n",
    "                             ].index\n",
    "\n",
    "nhanes_data.drop(yr_alc_indices, inplace=True)\n",
    "\n",
    "# drop all null values -- we want to know this person's relationship with smoking as\n",
    "#     it could be a key feature\n",
    "nhanes_data = nhanes_data.dropna(axis=0, subset=['Twelve_Alcohol'])"
   ]
  },
  {
   "cell_type": "code",
   "execution_count": 67,
   "metadata": {},
   "outputs": [
    {
     "data": {
      "text/plain": [
       "1.0    18101\n",
       "0.0     7542\n",
       "Name: Twelve_Alcohol, dtype: int64"
      ]
     },
     "execution_count": 67,
     "metadata": {},
     "output_type": "execute_result"
    }
   ],
   "source": [
    "nhanes_data['Twelve_Alcohol'].value_counts()"
   ]
  },
  {
   "cell_type": "code",
   "execution_count": 68,
   "metadata": {},
   "outputs": [
    {
     "data": {
      "text/plain": [
       "0"
      ]
     },
     "execution_count": 68,
     "metadata": {},
     "output_type": "execute_result"
    }
   ],
   "source": [
    "nhanes_data['Twelve_Alcohol'].isna().sum()"
   ]
  },
  {
   "cell_type": "code",
   "execution_count": 69,
   "metadata": {},
   "outputs": [
    {
     "data": {
      "image/png": "[encoded data removed]",
      "text/plain": [
       "<Figure size 432x288 with 1 Axes>"
      ]
     },
     "metadata": {
      "needs_background": "light"
     },
     "output_type": "display_data"
    }
   ],
   "source": [
    "plt.hist(nhanes_data[\"Twelve_Alcohol\"], color='#4287f5')\n",
    "plt.title('Distribution')\n",
    "plt.xlabel('Had more than 12 alcoholic drinks in past year? N/Y')\n",
    "plt.ylabel('frequency');"
   ]
  },
  {
   "cell_type": "markdown",
   "metadata": {},
   "source": [
    "-"
   ]
  },
  {
   "cell_type": "markdown",
   "metadata": {},
   "source": [
    "### HAD MORE THAN 4/5 DRINKS IN A DAY - feature clean"
   ]
  },
  {
   "cell_type": "code",
   "execution_count": 70,
   "metadata": {},
   "outputs": [],
   "source": [
    "# dropped values that represent 'don't know' or 'missing'\n",
    "# a few extreme values over 30 to remove and assumed to be incorrectly\n",
    "#    entered, as having over 30 drinks per day for a year would\n",
    "#    seems highly unlikely\n",
    "alc_amt_indices = nhanes_data[(nhanes_data['Alcohol_Amt'] == 777.0)\n",
    "                              | (nhanes_data['Alcohol_Amt'] == 999.0)\n",
    "                              | (nhanes_data['Alcohol_Amt'] > 30)\n",
    "                             ].index\n",
    "\n",
    "nhanes_data.drop(alc_amt_indices, inplace=True)\n",
    "\n",
    "# fill all null values -- people who had answered they hadn't drank \n",
    "#    more than 12 times in 'Twelve_Alcohol'\n",
    "#    so we want to just change the null values to 0 to indicate 0 times\n",
    "#    -- risk of not being 100% accurate because they could have \n",
    "#    drank anywhere between 0-12 but want to be more accurate\n",
    "#    if never drank and can assume more likely or little effect if \n",
    "#    under 12\n",
    "\n",
    "nhanes_data[\"Alcohol_Amt\"].fillna(0, inplace = True)"
   ]
  },
  {
   "cell_type": "code",
   "execution_count": 71,
   "metadata": {
    "collapsed": true,
    "jupyter": {
     "outputs_hidden": true
    }
   },
   "outputs": [
    {
     "data": {
      "text/plain": [
       "0.0     8671\n",
       "1.0     5897\n",
       "2.0     4602\n",
       "3.0     2438\n",
       "4.0     1284\n",
       "6.0      918\n",
       "5.0      757\n",
       "12.0     251\n",
       "8.0      236\n",
       "10.0     200\n",
       "7.0      166\n",
       "15.0      53\n",
       "9.0       37\n",
       "20.0      22\n",
       "11.0      14\n",
       "14.0      12\n",
       "24.0      12\n",
       "18.0      12\n",
       "16.0      10\n",
       "13.0       9\n",
       "30.0       4\n",
       "21.0       3\n",
       "23.0       2\n",
       "25.0       2\n",
       "19.0       1\n",
       "17.0       1\n",
       "Name: Alcohol_Amt, dtype: int64"
      ]
     },
     "execution_count": 71,
     "metadata": {},
     "output_type": "execute_result"
    }
   ],
   "source": [
    "nhanes_data[\"Alcohol_Amt\"].value_counts()"
   ]
  },
  {
   "cell_type": "code",
   "execution_count": 104,
   "metadata": {},
   "outputs": [
    {
     "data": {
      "image/png": "[encoded data removed]",
      "text/plain": [
       "<Figure size 432x288 with 1 Axes>"
      ]
     },
     "metadata": {
      "needs_background": "light"
     },
     "output_type": "display_data"
    }
   ],
   "source": [
    "plt.hist(nhanes_data[\"Alcohol_Amt\"], color='#4287f5')\n",
    "plt.title('Distribution')\n",
    "plt.xlabel('Number of average drinks per day in past year')\n",
    "plt.ylabel('frequency');"
   ]
  },
  {
   "cell_type": "code",
   "execution_count": null,
   "metadata": {},
   "outputs": [],
   "source": []
  },
  {
   "cell_type": "markdown",
   "metadata": {},
   "source": [
    "-"
   ]
  },
  {
   "cell_type": "markdown",
   "metadata": {},
   "source": [
    "#### OCCUPATION STATUS LAST WEEK- feature clean"
   ]
  },
  {
   "cell_type": "code",
   "execution_count": 73,
   "metadata": {},
   "outputs": [],
   "source": [
    "# 1.0 = Working at job or business\n",
    "# 2.0 = With a job or business, but not at work\n",
    "# 3.0 = Looking for work\n",
    "# 4.0 = Not working for job or business\n",
    "# 7.0 = Refused\n",
    "# 9.0 = Don't know\n",
    "# Changed these to simple 'have job', 'looking for job', and 'don't have job'\n",
    "\n",
    "nhanes_data['Job_Type'].replace({1.0: \"have_job\", 2.0: \"not_at_work\",\n",
    "                                 3.0: \"looking_job\", 4.0: \"no_job\"\n",
    "                                }, inplace=True)\n",
    "\n",
    "# dropped refused or don't konw values\n",
    "alc_amt_indices = nhanes_data[(nhanes_data['Job_Type'] == 7.0)\n",
    "                              | (nhanes_data['Job_Type'] == 9.0)\n",
    "                             ].index\n",
    "\n",
    "nhanes_data.drop(alc_amt_indices, inplace=True)\n",
    "\n",
    "# drop all null values -- we want to know this person's occupation status as\n",
    "#     it could be a key feature\n",
    "nhanes_data = nhanes_data.dropna(axis=0, subset=['Job_Type'])"
   ]
  },
  {
   "cell_type": "code",
   "execution_count": 74,
   "metadata": {},
   "outputs": [
    {
     "data": {
      "text/plain": [
       "have_job       13529\n",
       "no_job         10680\n",
       "looking_job      884\n",
       "not_at_work      505\n",
       "Name: Job_Type, dtype: int64"
      ]
     },
     "execution_count": 74,
     "metadata": {},
     "output_type": "execute_result"
    }
   ],
   "source": [
    "nhanes_data[\"Job_Type\"].value_counts()"
   ]
  },
  {
   "cell_type": "code",
   "execution_count": 75,
   "metadata": {},
   "outputs": [
    {
     "data": {
      "image/png": "[encoded data removed]",
      "text/plain": [
       "<Figure size 432x288 with 1 Axes>"
      ]
     },
     "metadata": {
      "needs_background": "light"
     },
     "output_type": "display_data"
    }
   ],
   "source": [
    "plt.hist(nhanes_data[\"Job_Type\"], color='#4287f5')\n",
    "plt.title('Distribution')\n",
    "plt.xlabel('Occupation Status')\n",
    "plt.ylabel('frequency');"
   ]
  },
  {
   "cell_type": "markdown",
   "metadata": {},
   "source": [
    "-"
   ]
  },
  {
   "cell_type": "markdown",
   "metadata": {},
   "source": [
    "#### NUMBER HOURS WORKED LAST WEEK - feature clean"
   ]
  },
  {
   "cell_type": "code",
   "execution_count": 76,
   "metadata": {},
   "outputs": [],
   "source": [
    "# dropped values that represent 'don't know' or 'missing'\n",
    "hrs_work_indices = nhanes_data[(nhanes_data['Num_Hrs_Worked_Wk'] == 77777.0)\n",
    "                               | (nhanes_data['Num_Hrs_Worked_Wk'] == 99999.0)\n",
    "                              ].index\n",
    "\n",
    "nhanes_data.drop(hrs_work_indices, inplace=True)\n",
    "\n",
    "# fill all null values -- people who had answered they are either \n",
    "#    looking for job, not at job, or have no job in 'Job Type'\n",
    "#    so changed this to 0\n",
    "\n",
    "nhanes_data[\"Num_Hrs_Worked_Wk\"].fillna(0, inplace = True)"
   ]
  },
  {
   "cell_type": "code",
   "execution_count": 77,
   "metadata": {},
   "outputs": [
    {
     "data": {
      "text/plain": [
       "0.0      12069\n",
       "40.0      4254\n",
       "50.0      1038\n",
       "45.0       736\n",
       "30.0       654\n",
       "         ...  \n",
       "91.0         1\n",
       "69.0         1\n",
       "79.0         1\n",
       "130.0        1\n",
       "102.0        1\n",
       "Name: Num_Hrs_Worked_Wk, Length: 108, dtype: int64"
      ]
     },
     "execution_count": 77,
     "metadata": {},
     "output_type": "execute_result"
    }
   ],
   "source": [
    "nhanes_data[\"Num_Hrs_Worked_Wk\"].value_counts()"
   ]
  },
  {
   "cell_type": "code",
   "execution_count": 78,
   "metadata": {},
   "outputs": [
    {
     "data": {
      "image/png": "[encoded data removed]",
      "text/plain": [
       "<Figure size 432x288 with 1 Axes>"
      ]
     },
     "metadata": {
      "needs_background": "light"
     },
     "output_type": "display_data"
    }
   ],
   "source": [
    "plt.hist(nhanes_data[\"Num_Hrs_Worked_Wk\"], color='#4287f5')\n",
    "plt.title('Distribution')\n",
    "plt.xlabel('Number of hours worked last week')\n",
    "plt.ylabel('frequency');"
   ]
  },
  {
   "cell_type": "markdown",
   "metadata": {},
   "source": [
    "-"
   ]
  },
  {
   "cell_type": "markdown",
   "metadata": {},
   "source": [
    "### CHECK FINAL SIZE OF CLEANED FEATURES DATASET"
   ]
  },
  {
   "cell_type": "markdown",
   "metadata": {},
   "source": [
    "Now drop all null values >>"
   ]
  },
  {
   "cell_type": "code",
   "execution_count": 79,
   "metadata": {},
   "outputs": [],
   "source": [
    "nhanes_data  = nhanes_data.dropna()"
   ]
  },
  {
   "cell_type": "code",
   "execution_count": 80,
   "metadata": {},
   "outputs": [
    {
     "data": {
      "text/plain": [
       "(22477, 28)"
      ]
     },
     "execution_count": 80,
     "metadata": {},
     "output_type": "execute_result"
    }
   ],
   "source": [
    "nhanes_data.shape"
   ]
  },
  {
   "cell_type": "code",
   "execution_count": 81,
   "metadata": {},
   "outputs": [],
   "source": [
    "with open('pickles/nhanes_data.pickle', 'wb') as to_write:\n",
    "    pickle.dump(nhanes_data, to_write)"
   ]
  },
  {
   "cell_type": "code",
   "execution_count": null,
   "metadata": {},
   "outputs": [],
   "source": []
  },
  {
   "cell_type": "markdown",
   "metadata": {},
   "source": [
    "## CLEAN UP TARGET VARIABLE:"
   ]
  },
  {
   "cell_type": "markdown",
   "metadata": {},
   "source": [
    "Un-pickle the cleaned version of features >"
   ]
  },
  {
   "cell_type": "code",
   "execution_count": 82,
   "metadata": {},
   "outputs": [],
   "source": [
    "with open('pickles/nhanes_data.pickle','rb') as read_file:\n",
    "    nhanes_clean = pickle.load(read_file)"
   ]
  },
  {
   "cell_type": "code",
   "execution_count": 83,
   "metadata": {},
   "outputs": [],
   "source": [
    "# Create new column for all mean of systolic readings\n",
    "\n",
    "nhanes_clean['Systolic_Avg'] = nhanes_clean[\n",
    "    ['Systolic_1Rd', 'Systolic_2Rd','Systolic_3Rd']].mean(axis=1)"
   ]
  },
  {
   "cell_type": "code",
   "execution_count": 84,
   "metadata": {},
   "outputs": [],
   "source": [
    "# Create new column for all mean of diastolic readings\n",
    "\n",
    "nhanes_clean['Diastolic_Avg'] = nhanes_clean[\n",
    "    ['Diastolic_1Rd', 'Diastolic_2Rd','Diastolic_3Rd']].mean(axis=1)"
   ]
  },
  {
   "cell_type": "code",
   "execution_count": 85,
   "metadata": {},
   "outputs": [],
   "source": [
    "# function to determine whether person has high blood pressure\n",
    "\n",
    "def blood_pressure_status(row):\n",
    "    if row['Systolic_Avg'] > 130 or row['Diastolic_Avg'] > 80:\n",
    "        return 1\n",
    "    return 0"
   ]
  },
  {
   "cell_type": "code",
   "execution_count": 86,
   "metadata": {},
   "outputs": [],
   "source": [
    "# application of above function to run through entire dataframe\n",
    "\n",
    "nhanes_clean['High_Blood_Pressure'] = nhanes_clean.apply(\n",
    "    lambda row: blood_pressure_status(row), axis=1)"
   ]
  },
  {
   "cell_type": "code",
   "execution_count": 87,
   "metadata": {},
   "outputs": [
    {
     "data": {
      "text/plain": [
       "0    14603\n",
       "1     7874\n",
       "Name: High_Blood_Pressure, dtype: int64"
      ]
     },
     "execution_count": 87,
     "metadata": {},
     "output_type": "execute_result"
    }
   ],
   "source": [
    "# See how many have high blood pressure in the data set (1 = high blood pressure)\n",
    "\n",
    "nhanes_clean.High_Blood_Pressure.value_counts()"
   ]
  },
  {
   "cell_type": "code",
   "execution_count": 88,
   "metadata": {},
   "outputs": [],
   "source": [
    "# Delete the blood pressure reading columns now that we have \n",
    "#     represented them in 'High_Blood_Pressure'\n",
    "\n",
    "\n",
    "nhanes_clean.drop(['Systolic_1Rd', 'Systolic_2Rd', 'Systolic_3Rd',\n",
    "                   'Diastolic_1Rd', 'Diastolic_2Rd','Diastolic_3Rd',\n",
    "                   'Systolic_Avg','Diastolic_Avg'], axis=1, inplace=True)"
   ]
  },
  {
   "cell_type": "code",
   "execution_count": 89,
   "metadata": {},
   "outputs": [],
   "source": [
    "# Also no longer need patient number \n",
    "\n",
    "nhanes_clean.drop('Patient_ID', axis=1, inplace=True)"
   ]
  },
  {
   "cell_type": "code",
   "execution_count": 90,
   "metadata": {},
   "outputs": [
    {
     "data": {
      "text/plain": [
       "(22477, 22)"
      ]
     },
     "execution_count": 90,
     "metadata": {},
     "output_type": "execute_result"
    }
   ],
   "source": [
    "nhanes_clean.shape"
   ]
  },
  {
   "cell_type": "code",
   "execution_count": 91,
   "metadata": {},
   "outputs": [],
   "source": [
    "# Reset index\n",
    "\n",
    "nhanes_clean.reset_index(inplace = True)"
   ]
  },
  {
   "cell_type": "code",
   "execution_count": 92,
   "metadata": {},
   "outputs": [],
   "source": [
    "nhanes_clean.drop('index', axis=1, inplace=True)"
   ]
  },
  {
   "cell_type": "code",
   "execution_count": 93,
   "metadata": {},
   "outputs": [
    {
     "data": {
      "text/html": [
       "<div>\n",
       "<style scoped>\n",
       "    .dataframe tbody tr th:only-of-type {\n",
       "        vertical-align: middle;\n",
       "    }\n",
       "\n",
       "    .dataframe tbody tr th {\n",
       "        vertical-align: top;\n",
       "    }\n",
       "\n",
       "    .dataframe thead th {\n",
       "        text-align: right;\n",
       "    }\n",
       "</style>\n",
       "<table border=\"1\" class=\"dataframe\">\n",
       "  <thead>\n",
       "    <tr style=\"text-align: right;\">\n",
       "      <th></th>\n",
       "      <th>BMI</th>\n",
       "      <th>Waist_Circum</th>\n",
       "      <th>Height</th>\n",
       "      <th>Weight</th>\n",
       "      <th>Eat_Out</th>\n",
       "      <th>Ready_to_Eat</th>\n",
       "      <th>Frozen_Foods</th>\n",
       "      <th>Smoked_Hund</th>\n",
       "      <th>Curr_Smoke</th>\n",
       "      <th>Work_Vig_Act</th>\n",
       "      <th>...</th>\n",
       "      <th>Rec_Vig_Act</th>\n",
       "      <th>Sitting_Time</th>\n",
       "      <th>Gender</th>\n",
       "      <th>Age</th>\n",
       "      <th>Race</th>\n",
       "      <th>Twelve_Alcohol</th>\n",
       "      <th>Alcohol_Amt</th>\n",
       "      <th>Job_Type</th>\n",
       "      <th>Num_Hrs_Worked_Wk</th>\n",
       "      <th>High_Blood_Pressure</th>\n",
       "    </tr>\n",
       "  </thead>\n",
       "  <tbody>\n",
       "    <tr>\n",
       "      <th>0</th>\n",
       "      <td>58.04</td>\n",
       "      <td>156.3</td>\n",
       "      <td>154.7</td>\n",
       "      <td>138.9</td>\n",
       "      <td>0.0</td>\n",
       "      <td>2.0</td>\n",
       "      <td>0.0</td>\n",
       "      <td>0.0</td>\n",
       "      <td>0.0</td>\n",
       "      <td>0.0</td>\n",
       "      <td>...</td>\n",
       "      <td>0.0</td>\n",
       "      <td>720.0</td>\n",
       "      <td>1.0</td>\n",
       "      <td>62.0</td>\n",
       "      <td>Other_Race</td>\n",
       "      <td>0.0</td>\n",
       "      <td>0.0</td>\n",
       "      <td>no_job</td>\n",
       "      <td>0.0</td>\n",
       "      <td>0</td>\n",
       "    </tr>\n",
       "    <tr>\n",
       "      <th>1</th>\n",
       "      <td>30.05</td>\n",
       "      <td>109.5</td>\n",
       "      <td>167.1</td>\n",
       "      <td>83.9</td>\n",
       "      <td>1.0</td>\n",
       "      <td>0.0</td>\n",
       "      <td>2.0</td>\n",
       "      <td>1.0</td>\n",
       "      <td>0.0</td>\n",
       "      <td>0.0</td>\n",
       "      <td>...</td>\n",
       "      <td>0.0</td>\n",
       "      <td>240.0</td>\n",
       "      <td>0.0</td>\n",
       "      <td>71.0</td>\n",
       "      <td>Non_Hispanic_White</td>\n",
       "      <td>0.0</td>\n",
       "      <td>0.0</td>\n",
       "      <td>no_job</td>\n",
       "      <td>0.0</td>\n",
       "      <td>1</td>\n",
       "    </tr>\n",
       "    <tr>\n",
       "      <th>2</th>\n",
       "      <td>27.56</td>\n",
       "      <td>95.4</td>\n",
       "      <td>154.4</td>\n",
       "      <td>65.7</td>\n",
       "      <td>2.0</td>\n",
       "      <td>0.0</td>\n",
       "      <td>0.0</td>\n",
       "      <td>0.0</td>\n",
       "      <td>0.0</td>\n",
       "      <td>0.0</td>\n",
       "      <td>...</td>\n",
       "      <td>0.0</td>\n",
       "      <td>180.0</td>\n",
       "      <td>0.0</td>\n",
       "      <td>52.0</td>\n",
       "      <td>Mexican_American</td>\n",
       "      <td>1.0</td>\n",
       "      <td>5.0</td>\n",
       "      <td>have_job</td>\n",
       "      <td>50.0</td>\n",
       "      <td>0</td>\n",
       "    </tr>\n",
       "    <tr>\n",
       "      <th>3</th>\n",
       "      <td>23.34</td>\n",
       "      <td>79.5</td>\n",
       "      <td>182.7</td>\n",
       "      <td>77.9</td>\n",
       "      <td>3.0</td>\n",
       "      <td>0.0</td>\n",
       "      <td>0.0</td>\n",
       "      <td>0.0</td>\n",
       "      <td>0.0</td>\n",
       "      <td>0.0</td>\n",
       "      <td>...</td>\n",
       "      <td>1.0</td>\n",
       "      <td>300.0</td>\n",
       "      <td>0.0</td>\n",
       "      <td>21.0</td>\n",
       "      <td>Non_Hispanic_Black</td>\n",
       "      <td>1.0</td>\n",
       "      <td>4.0</td>\n",
       "      <td>looking_job</td>\n",
       "      <td>0.0</td>\n",
       "      <td>0</td>\n",
       "    </tr>\n",
       "    <tr>\n",
       "      <th>4</th>\n",
       "      <td>33.64</td>\n",
       "      <td>117.0</td>\n",
       "      <td>173.8</td>\n",
       "      <td>101.6</td>\n",
       "      <td>0.0</td>\n",
       "      <td>0.0</td>\n",
       "      <td>0.0</td>\n",
       "      <td>1.0</td>\n",
       "      <td>0.0</td>\n",
       "      <td>0.0</td>\n",
       "      <td>...</td>\n",
       "      <td>0.0</td>\n",
       "      <td>180.0</td>\n",
       "      <td>0.0</td>\n",
       "      <td>64.0</td>\n",
       "      <td>Mexican_American</td>\n",
       "      <td>1.0</td>\n",
       "      <td>4.0</td>\n",
       "      <td>have_job</td>\n",
       "      <td>40.0</td>\n",
       "      <td>0</td>\n",
       "    </tr>\n",
       "  </tbody>\n",
       "</table>\n",
       "<p>5 rows × 22 columns</p>\n",
       "</div>"
      ],
      "text/plain": [
       "     BMI  Waist_Circum  Height  Weight  Eat_Out  Ready_to_Eat  Frozen_Foods  \\\n",
       "0  58.04         156.3   154.7   138.9      0.0           2.0           0.0   \n",
       "1  30.05         109.5   167.1    83.9      1.0           0.0           2.0   \n",
       "2  27.56          95.4   154.4    65.7      2.0           0.0           0.0   \n",
       "3  23.34          79.5   182.7    77.9      3.0           0.0           0.0   \n",
       "4  33.64         117.0   173.8   101.6      0.0           0.0           0.0   \n",
       "\n",
       "   Smoked_Hund  Curr_Smoke  Work_Vig_Act  ...  Rec_Vig_Act  Sitting_Time  \\\n",
       "0          0.0         0.0           0.0  ...          0.0         720.0   \n",
       "1          1.0         0.0           0.0  ...          0.0         240.0   \n",
       "2          0.0         0.0           0.0  ...          0.0         180.0   \n",
       "3          0.0         0.0           0.0  ...          1.0         300.0   \n",
       "4          1.0         0.0           0.0  ...          0.0         180.0   \n",
       "\n",
       "   Gender   Age                Race  Twelve_Alcohol Alcohol_Amt     Job_Type  \\\n",
       "0     1.0  62.0          Other_Race             0.0         0.0       no_job   \n",
       "1     0.0  71.0  Non_Hispanic_White             0.0         0.0       no_job   \n",
       "2     0.0  52.0    Mexican_American             1.0         5.0     have_job   \n",
       "3     0.0  21.0  Non_Hispanic_Black             1.0         4.0  looking_job   \n",
       "4     0.0  64.0    Mexican_American             1.0         4.0     have_job   \n",
       "\n",
       "   Num_Hrs_Worked_Wk High_Blood_Pressure  \n",
       "0                0.0                   0  \n",
       "1                0.0                   1  \n",
       "2               50.0                   0  \n",
       "3                0.0                   0  \n",
       "4               40.0                   0  \n",
       "\n",
       "[5 rows x 22 columns]"
      ]
     },
     "execution_count": 93,
     "metadata": {},
     "output_type": "execute_result"
    }
   ],
   "source": [
    "nhanes_clean.head()"
   ]
  },
  {
   "cell_type": "code",
   "execution_count": 94,
   "metadata": {},
   "outputs": [
    {
     "name": "stdout",
     "output_type": "stream",
     "text": [
      "0    0.649686\n",
      "1    0.350314\n",
      "Name: High_Blood_Pressure, dtype: float64\n"
     ]
    },
    {
     "data": {
      "text/plain": [
       "<matplotlib.axes._subplots.AxesSubplot at 0x7fd30bbab8d0>"
      ]
     },
     "execution_count": 94,
     "metadata": {},
     "output_type": "execute_result"
    },
    {
     "data": {
      "image/png": "[encoded data removed]",
      "text/plain": [
       "<Figure size 432x288 with 1 Axes>"
      ]
     },
     "metadata": {
      "needs_background": "light"
     },
     "output_type": "display_data"
    }
   ],
   "source": [
    "target_pcts = nhanes_clean.High_Blood_Pressure.value_counts(normalize=True) \n",
    "print(target_pcts)\n",
    "\n",
    "target_pcts.plot(kind='bar', color='#50ad80')"
   ]
  },
  {
   "cell_type": "markdown",
   "metadata": {},
   "source": [
    "Now that dataset is completely cleaned, pickle it and prepare for modeling >"
   ]
  },
  {
   "cell_type": "code",
   "execution_count": 95,
   "metadata": {},
   "outputs": [],
   "source": [
    "with open('pickles/nhanes_clean.pickle', 'wb') as to_write:\n",
    "    pickle.dump(nhanes_clean, to_write)"
   ]
  },
  {
   "cell_type": "code",
   "execution_count": 96,
   "metadata": {},
   "outputs": [],
   "source": [
    "nhanes_clean.to_csv('csv/nhanes_clean.csv')"
   ]
  },
  {
   "cell_type": "markdown",
   "metadata": {},
   "source": [
    "-</br>\n",
    "-</br>\n",
    "Majority of data cleaning complete.  Now move to this workbook > data_and_modeling/nhanes_bp_model.ipynb to do conduct modeling on the data."
   ]
  }
 ],
 "metadata": {
  "kernelspec": {
   "display_name": "Python 3",
   "language": "python",
   "name": "python3"
  },
  "language_info": {
   "codemirror_mode": {
    "name": "ipython",
    "version": 3
   },
   "file_extension": ".py",
   "mimetype": "text/x-python",
   "name": "python",
   "nbconvert_exporter": "python",
   "pygments_lexer": "ipython3",
   "version": "3.7.4"
  }
 },
 "nbformat": 4,
 "nbformat_minor": 4
}
